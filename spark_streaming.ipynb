{
 "cells": [
  {
   "cell_type": "code",
   "execution_count": 1,
   "metadata": {},
   "outputs": [],
   "source": [
    "import os\n",
    "import sys\n",
    "import glob\n",
    "from os.path import abspath\n",
    "os.environ['SPARK_HOME'] = 'C:\\spark-3.1.2-bin-hadoop3.2'\n",
    "os.environ['JAVA_HOME'] = 'C:\\Program Files\\Java\\jdk1.8.0_201'\n",
    "os.environ['HADOOP_HOME'] = 'C:\\spark-3.1.2-bin-hadoop3.2'\n",
    "spark_python = os.path.join(os.environ.get('SPARK_HOME',None),'python')\n",
    "py4j = glob.glob(os.path.join(spark_python,'lib','py4j-*.zip'))[0]\n",
    "sys.path[:0]=[spark_python,py4j]\n",
    "os.environ['PYTHONPATH']=py4j                          \n",
    "import findspark\n",
    "findspark.init()\n",
    "findspark.find()\n",
    "from pyspark.sql import SparkSession\n",
    "spark = SparkSession.builder.appName(\"Spark Examples\").enableHiveSupport().getOrCreate()"
   ]
  },
  {
   "cell_type": "code",
   "execution_count": 2,
   "metadata": {},
   "outputs": [],
   "source": [
    "from pyspark.sql.types import StructType\n",
    "temperatureSchema = StructType().add(\"day\", \"string\").add(\"tempInCelcius\", \"string\")"
   ]
  },
  {
   "cell_type": "code",
   "execution_count": 3,
   "metadata": {},
   "outputs": [],
   "source": [
    "temperature_streaming_df = spark.readStream.option(\"sep\", \",\") \\\n",
    "                            .schema(temperatureSchema).csv(\"C:\\\\Users\\\\ADMIN\\\\Documents\\\\temperature-data\")"
   ]
  },
  {
   "cell_type": "code",
   "execution_count": 4,
   "metadata": {},
   "outputs": [
    {
     "data": {
      "text/plain": [
       "True"
      ]
     },
     "execution_count": 4,
     "metadata": {},
     "output_type": "execute_result"
    }
   ],
   "source": [
    "temperature_streaming_df.isStreaming"
   ]
  },
  {
   "cell_type": "code",
   "execution_count": 5,
   "metadata": {},
   "outputs": [
    {
     "name": "stdout",
     "output_type": "stream",
     "text": [
      "root\n",
      " |-- day: string (nullable = true)\n",
      " |-- tempInCelcius: string (nullable = true)\n",
      "\n"
     ]
    }
   ],
   "source": [
    "temperature_streaming_df.printSchema()"
   ]
  },
  {
   "cell_type": "code",
   "execution_count": 6,
   "metadata": {},
   "outputs": [],
   "source": [
    "query = temperature_streaming_df.writeStream.format(\"console\").outputMode(\"append\").start()"
   ]
  },
  {
   "cell_type": "code",
   "execution_count": 7,
   "metadata": {},
   "outputs": [],
   "source": [
    "query = temperature_streaming_df.writeStream.format(\"memory\").queryName(\"TemperatureData\").outputMode(\"append\").start()"
   ]
  },
  {
   "cell_type": "code",
   "execution_count": 8,
   "metadata": {},
   "outputs": [
    {
     "name": "stdout",
     "output_type": "stream",
     "text": [
      "+-----+-------------+\n",
      "|  day|tempInCelcius|\n",
      "+-----+-------------+\n",
      "|  day|tempInCelsius|\n",
      "| day8|         12.3|\n",
      "| day9|         13.1|\n",
      "|day10|         12.9|\n",
      "|day11|         11.9|\n",
      "|day12|           14|\n",
      "|day13|         13.9|\n",
      "|day14|         12.7|\n",
      "|  day|tempInCelsius|\n",
      "| day8|         12.3|\n",
      "| day9|         13.1|\n",
      "|day10|         12.9|\n",
      "|day11|         11.9|\n",
      "|day12|           14|\n",
      "|day13|         13.9|\n",
      "|day14|         12.8|\n",
      "|  day|tempInCelsius|\n",
      "| day1|         12.3|\n",
      "| day2|         13.1|\n",
      "| day3|         12.9|\n",
      "+-----+-------------+\n",
      "only showing top 20 rows\n",
      "\n"
     ]
    }
   ],
   "source": [
    "spark.sql(\"select * from TemperatureData\").show()"
   ]
  },
  {
   "cell_type": "code",
   "execution_count": 12,
   "metadata": {},
   "outputs": [
    {
     "name": "stdout",
     "output_type": "stream",
     "text": [
      "+-----+-------------+\n",
      "|  day|tempInCelcius|\n",
      "+-----+-------------+\n",
      "| day9|         13.1|\n",
      "|day12|           14|\n",
      "|day13|         13.9|\n",
      "| day9|         13.1|\n",
      "|day12|           14|\n",
      "|day13|         13.9|\n",
      "| day2|         13.1|\n",
      "| day5|           14|\n",
      "| day6|         13.9|\n",
      "+-----+-------------+\n",
      "\n"
     ]
    }
   ],
   "source": [
    "spark.sql(\"select * from TemperatureData where day != 'day' and cast(tempInCelcius as double) >13\").show()"
   ]
  }
 ],
 "metadata": {
  "kernelspec": {
   "display_name": "Python 3 (ipykernel)",
   "language": "python",
   "name": "python3"
  },
  "language_info": {
   "codemirror_mode": {
    "name": "ipython",
    "version": 3
   },
   "file_extension": ".py",
   "mimetype": "text/x-python",
   "name": "python",
   "nbconvert_exporter": "python",
   "pygments_lexer": "ipython3",
   "version": "3.8.5"
  }
 },
 "nbformat": 4,
 "nbformat_minor": 4
}
