{
 "cells": [
  {
   "cell_type": "code",
   "execution_count": 1,
   "metadata": {},
   "outputs": [],
   "source": [
    "import os\n",
    "import sys\n",
    "import glob\n",
    "from os.path import abspath\n",
    "os.environ['SPARK_HOME'] = 'C:\\spark-3.1.2-bin-hadoop3.2'\n",
    "os.environ['JAVA_HOME'] = 'C:\\Program Files\\Java\\jdk1.8.0_201'\n",
    "os.environ['HADOOP_HOME'] = 'C:\\spark-3.1.2-bin-hadoop3.2'\n",
    "spark_python = os.path.join(os.environ.get('SPARK_HOME',None),'python')\n",
    "py4j = glob.glob(os.path.join(spark_python,'lib','py4j-*.zip'))[0]\n",
    "graphf = glob.glob(os.path.join(spark_python,'graphframes.zip'))[0]\n",
    "sys.path[:0]=[spark_python,py4j]\n",
    "sys.path[:0]=[spark_python,graphf]\n",
    "os.environ['PYTHONPATH']=py4j+os.pathsep+graphf\n",
    "import findspark\n",
    "findspark.init()\n",
    "findspark.find()\n",
    "from pyspark.sql import SparkSession\n",
    "spark = SparkSession.builder.appName(\"Spark Examples\").enableHiveSupport().getOrCreate()"
   ]
  },
  {
   "cell_type": "code",
   "execution_count": 2,
   "metadata": {},
   "outputs": [],
   "source": [
    "from graphframes import *\n",
    "import networkx as nx\n",
    "import matplotlib.pyplot as plt"
   ]
  },
  {
   "cell_type": "code",
   "execution_count": 3,
   "metadata": {},
   "outputs": [
    {
     "name": "stdout",
     "output_type": "stream",
     "text": [
      "+------+-----------------+\n",
      "|    id|      Designation|\n",
      "+------+-----------------+\n",
      "| James|Software Engineer|\n",
      "|  Mary|Software Engineer|\n",
      "|   Roy|Product Developer|\n",
      "|  Ryan|               HR|\n",
      "|  John|         Security|\n",
      "|Robert| Testing Engineer|\n",
      "+------+-----------------+\n",
      "\n"
     ]
    }
   ],
   "source": [
    "vertices = spark.createDataFrame([(\"James\", \"Software Engineer\"),\n",
    "                                 (\"Mary\", \"Software Engineer\"),\n",
    "                                 (\"Roy\", \"Product Developer\"),\n",
    "                                 (\"Ryan\", \"HR\"),\n",
    "                                 (\"John\", \"Security\"),\n",
    "                                 (\"Robert\", \"Testing Engineer\")], [\"id\", \"Designation\"])\n",
    "vertices.show()"
   ]
  },
  {
   "cell_type": "code",
   "execution_count": 4,
   "metadata": {},
   "outputs": [],
   "source": [
    "edges = spark.createDataFrame([(\"James\", \"Mary\", \"colleagues\"),\n",
    "                              (\"Mary\", \"James\", \"colleagues\"),\n",
    "                              (\"Roy\", \"James\", \"friends\"),\n",
    "                              (\"James\", \"Roy\", \"friends\"),\n",
    "                              (\"Mary\", \"Roy\", \"neighbours\"),\n",
    "                              (\"Roy\", \"Mary\", \"neighbours\"),\n",
    "                              (\"Roy\", \"Ryan\", \"friends\"),\n",
    "                              (\"Ryan\", \"Roy\", \"friends\"),\n",
    "                              (\"James\", \"Ryan\", \"friends\"),\n",
    "                              (\"Ryan\", \"James\", \"friends\"),\n",
    "                              (\"John\", \"Roy\", \"friends\"),\n",
    "                              (\"Roy\", \"John\", \"friends\"),\n",
    "                              (\"Ryan\", \"John\", \"reportsto\"),\n",
    "                              (\"Robert\", \"John\", \"reportsto\")],\n",
    "                             [\"src\", \"dst\", \"type\"])"
   ]
  },
  {
   "cell_type": "code",
   "execution_count": 5,
   "metadata": {},
   "outputs": [
    {
     "name": "stdout",
     "output_type": "stream",
     "text": [
      "+------+-----+----------+\n",
      "|   src|  dst|      type|\n",
      "+------+-----+----------+\n",
      "| James| Mary|colleagues|\n",
      "|  Mary|James|colleagues|\n",
      "|   Roy|James|   friends|\n",
      "| James|  Roy|   friends|\n",
      "|  Mary|  Roy|neighbours|\n",
      "|   Roy| Mary|neighbours|\n",
      "|   Roy| Ryan|   friends|\n",
      "|  Ryan|  Roy|   friends|\n",
      "| James| Ryan|   friends|\n",
      "|  Ryan|James|   friends|\n",
      "|  John|  Roy|   friends|\n",
      "|   Roy| John|   friends|\n",
      "|  Ryan| John| reportsto|\n",
      "|Robert| John| reportsto|\n",
      "+------+-----+----------+\n",
      "\n"
     ]
    }
   ],
   "source": [
    "edges.show()"
   ]
  },
  {
   "cell_type": "code",
   "execution_count": 6,
   "metadata": {},
   "outputs": [
    {
     "data": {
      "text/plain": [
       "6"
      ]
     },
     "execution_count": 6,
     "metadata": {},
     "output_type": "execute_result"
    }
   ],
   "source": [
    "vertices.count()"
   ]
  },
  {
   "cell_type": "code",
   "execution_count": 7,
   "metadata": {},
   "outputs": [
    {
     "data": {
      "text/plain": [
       "14"
      ]
     },
     "execution_count": 7,
     "metadata": {},
     "output_type": "execute_result"
    }
   ],
   "source": [
    "edges.count()"
   ]
  },
  {
   "cell_type": "code",
   "execution_count": 8,
   "metadata": {},
   "outputs": [],
   "source": [
    "g = GraphFrame(vertices, edges)"
   ]
  },
  {
   "cell_type": "code",
   "execution_count": 13,
   "metadata": {},
   "outputs": [],
   "source": [
    "# the function will plot the source and destination nodes and connect them by meand of undirected line\n",
    "def plot_directed_graph(edge_list):\n",
    "    plt.figure(figsize=(9,9))\n",
    "    gplot=nx.DiGraph()\n",
    "    edge_labels = {}\n",
    "    for row in edge_list.select(\"src\", \"dst\", \"type\").take(1000):\n",
    "        gplot.add_edge(row[\"src\"], row[\"dst\"])\n",
    "        edge_labels[(row[\"src\"], row[\"dst\"])] = row[\"type\"]\n",
    "    pos = nx.spring_layout(gplot)\n",
    "    nx.draw(gplot, pos, with_labels=True, font_weight=\"bold\", node_size=3500)\n",
    "    nx.draw_networkx_edge_labels(gplot, pos, edge_labels=edge_labels, font_color=\"green\", font_size=11, font_weight=\"bold\")"
   ]
  },
  {
   "cell_type": "code",
   "execution_count": 15,
   "metadata": {},
   "outputs": [
    {
     "data": {
      "image/png": "[encoded data removed]",
      "text/plain": [
       "<Figure size 648x648 with 1 Axes>"
      ]
     },
     "metadata": {},
     "output_type": "display_data"
    }
   ],
   "source": [
    "plot_directed_graph(g.edges)"
   ]
  },
  {
   "cell_type": "code",
   "execution_count": 21,
   "metadata": {},
   "outputs": [
    {
     "name": "stdout",
     "output_type": "stream",
     "text": [
      "+--------------------------+-------------------------+--------------------------+\n",
      "|start_vertex              |edge                     |end_vertex                |\n",
      "+--------------------------+-------------------------+--------------------------+\n",
      "|{James, Software Engineer}|{James, Mary, colleagues}|{Mary, Software Engineer} |\n",
      "|{Roy, Product Developer}  |{Roy, Mary, neighbours}  |{Mary, Software Engineer} |\n",
      "|{Mary, Software Engineer} |{Mary, James, colleagues}|{James, Software Engineer}|\n",
      "|{Roy, Product Developer}  |{Roy, James, friends}    |{James, Software Engineer}|\n",
      "|{Ryan, HR}                |{Ryan, James, friends}   |{James, Software Engineer}|\n",
      "|{Mary, Software Engineer} |{Mary, Roy, neighbours}  |{Roy, Product Developer}  |\n",
      "|{James, Software Engineer}|{James, Roy, friends}    |{Roy, Product Developer}  |\n",
      "|{John, Security}          |{John, Roy, friends}     |{Roy, Product Developer}  |\n",
      "|{Ryan, HR}                |{Ryan, Roy, friends}     |{Roy, Product Developer}  |\n",
      "|{Roy, Product Developer}  |{Roy, John, friends}     |{John, Security}          |\n",
      "|{Ryan, HR}                |{Ryan, John, reportsto}  |{John, Security}          |\n",
      "|{Robert, Testing Engineer}|{Robert, John, reportsto}|{John, Security}          |\n",
      "|{James, Software Engineer}|{James, Ryan, friends}   |{Ryan, HR}                |\n",
      "|{Roy, Product Developer}  |{Roy, Ryan, friends}     |{Ryan, HR}                |\n",
      "+--------------------------+-------------------------+--------------------------+\n",
      "\n"
     ]
    },
    {
     "data": {
      "text/plain": [
       "14"
      ]
     },
     "execution_count": 21,
     "metadata": {},
     "output_type": "execute_result"
    }
   ],
   "source": [
    "simple_motifs = g.find(\"(start_vertex)-[edge]->(end_vertex)\")\n",
    "simple_motifs.show(truncate=False)\n",
    "simple_motifs.count()"
   ]
  },
  {
   "cell_type": "code",
   "execution_count": 24,
   "metadata": {},
   "outputs": [
    {
     "name": "stdout",
     "output_type": "stream",
     "text": [
      "+--------------------------+----------------------+--------------------------+\n",
      "|start_vertex              |edge                  |end_vertex                |\n",
      "+--------------------------+----------------------+--------------------------+\n",
      "|{Roy, Product Developer}  |{Roy, James, friends} |{James, Software Engineer}|\n",
      "|{Ryan, HR}                |{Ryan, James, friends}|{James, Software Engineer}|\n",
      "|{James, Software Engineer}|{James, Roy, friends} |{Roy, Product Developer}  |\n",
      "|{John, Security}          |{John, Roy, friends}  |{Roy, Product Developer}  |\n",
      "|{Ryan, HR}                |{Ryan, Roy, friends}  |{Roy, Product Developer}  |\n",
      "|{Roy, Product Developer}  |{Roy, John, friends}  |{John, Security}          |\n",
      "|{James, Software Engineer}|{James, Ryan, friends}|{Ryan, HR}                |\n",
      "|{Roy, Product Developer}  |{Roy, Ryan, friends}  |{Ryan, HR}                |\n",
      "+--------------------------+----------------------+--------------------------+\n",
      "\n"
     ]
    },
    {
     "data": {
      "text/plain": [
       "8"
      ]
     },
     "execution_count": 24,
     "metadata": {},
     "output_type": "execute_result"
    }
   ],
   "source": [
    "filtered_motifs = g.find(\"(start_vertex)-[edge]->(end_vertex)\").filter(\"edge.type='friends'\")\n",
    "filtered_motifs.show(truncate=False)\n",
    "filtered_motifs.count()"
   ]
  },
  {
   "cell_type": "code",
   "execution_count": 25,
   "metadata": {},
   "outputs": [
    {
     "name": "stdout",
     "output_type": "stream",
     "text": [
      "+------------------------+---------------------+--------------------------+\n",
      "|start_vertex            |edge                 |end_vertex                |\n",
      "+------------------------+---------------------+--------------------------+\n",
      "|{Roy, Product Developer}|{Roy, James, friends}|{James, Software Engineer}|\n",
      "|{Roy, Product Developer}|{Roy, John, friends} |{John, Security}          |\n",
      "|{Roy, Product Developer}|{Roy, Ryan, friends} |{Ryan, HR}                |\n",
      "+------------------------+---------------------+--------------------------+\n",
      "\n"
     ]
    },
    {
     "data": {
      "text/plain": [
       "3"
      ]
     },
     "execution_count": 25,
     "metadata": {},
     "output_type": "execute_result"
    }
   ],
   "source": [
    "filtered_motifs = g.find(\"(start_vertex)-[edge]->(end_vertex)\")\\\n",
    "                    .filter(\"start_vertex.id='Roy' AND edge.type='friends'\")\n",
    "filtered_motifs.show(truncate=False)\n",
    "filtered_motifs.count()"
   ]
  },
  {
   "cell_type": "code",
   "execution_count": 28,
   "metadata": {},
   "outputs": [
    {
     "name": "stdout",
     "output_type": "stream",
     "text": [
      "+---+-------+-----+\n",
      "|id |type   |id   |\n",
      "+---+-------+-----+\n",
      "|Roy|friends|James|\n",
      "|Roy|friends|John |\n",
      "|Roy|friends|Ryan |\n",
      "+---+-------+-----+\n",
      "\n"
     ]
    }
   ],
   "source": [
    "filtered_motifs.select(\"start_vertex.id\", \"edge.type\", \"end_vertex.id\").show(truncate=False)"
   ]
  },
  {
   "cell_type": "code",
   "execution_count": null,
   "metadata": {},
   "outputs": [],
   "source": []
  }
 ],
 "metadata": {
  "kernelspec": {
   "display_name": "Python 3 (ipykernel)",
   "language": "python",
   "name": "python3"
  },
  "language_info": {
   "codemirror_mode": {
    "name": "ipython",
    "version": 3
   },
   "file_extension": ".py",
   "mimetype": "text/x-python",
   "name": "python",
   "nbconvert_exporter": "python",
   "pygments_lexer": "ipython3",
   "version": "3.8.5"
  }
 },
 "nbformat": 4,
 "nbformat_minor": 4
}
